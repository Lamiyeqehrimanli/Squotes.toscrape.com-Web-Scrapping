{
 "cells": [
  {
   "cell_type": "code",
   "execution_count": 482,
   "id": "d9ff4a5f-71b5-49dd-858f-012342531fb8",
   "metadata": {},
   "outputs": [],
   "source": [
    "#1) Quote of each posts\n",
    "#2) Author of each posts\n",
    "#3) Link to author\n",
    "#4) Tags of each posts"
   ]
  },
  {
   "cell_type": "code",
   "execution_count": 8,
   "id": "d995523a-9a57-4568-8131-aee1da7e19f1",
   "metadata": {},
   "outputs": [],
   "source": [
    "import requests\n",
    "from bs4 import BeautifulSoup\n",
    "import pandas as pd"
   ]
  },
  {
   "cell_type": "code",
   "execution_count": 10,
   "id": "5532a69a-cf1c-4415-8b27-b2934eee9af6",
   "metadata": {},
   "outputs": [],
   "source": [
    "url = 'https://quotes.toscrape.com/'\n",
    "response = requests.get(url)\n",
    "trainings_soup =  BeautifulSoup(response.text, 'html.parser')"
   ]
  },
  {
   "cell_type": "code",
   "execution_count": 12,
   "id": "9c9a2b09-2d99-458e-9f5c-ac7fc03c7a2d",
   "metadata": {},
   "outputs": [],
   "source": [
    "#trainings_soup"
   ]
  },
  {
   "cell_type": "code",
   "execution_count": 14,
   "id": "023da47a-5988-4e8d-a421-63b3672dd7c6",
   "metadata": {
    "scrolled": true
   },
   "outputs": [
    {
     "name": "stdout",
     "output_type": "stream",
     "text": [
      "[<span class=\"text\" itemprop=\"text\">“The world as we have created it is a process of our thinking. It cannot be changed without changing our thinking.”</span>, <span class=\"text\" itemprop=\"text\">“It is our choices, Harry, that show what we truly are, far more than our abilities.”</span>, <span class=\"text\" itemprop=\"text\">“There are only two ways to live your life. One is as though nothing is a miracle. The other is as though everything is a miracle.”</span>, <span class=\"text\" itemprop=\"text\">“The person, be it gentleman or lady, who has not pleasure in a good novel, must be intolerably stupid.”</span>, <span class=\"text\" itemprop=\"text\">“Imperfection is beauty, madness is genius and it's better to be absolutely ridiculous than absolutely boring.”</span>, <span class=\"text\" itemprop=\"text\">“Try not to become a man of success. Rather become a man of value.”</span>, <span class=\"text\" itemprop=\"text\">“It is better to be hated for what you are than to be loved for what you are not.”</span>, <span class=\"text\" itemprop=\"text\">“I have not failed. I've just found 10,000 ways that won't work.”</span>, <span class=\"text\" itemprop=\"text\">“A woman is like a tea bag; you never know how strong it is until it's in hot water.”</span>, <span class=\"text\" itemprop=\"text\">“A day without sunshine is like, you know, night.”</span>]\n"
     ]
    }
   ],
   "source": [
    "quote = []\n",
    "names = trainings_soup.findAll('span',attrs={\"class\":\"text\"})\n",
    "print(names)"
   ]
  },
  {
   "cell_type": "code",
   "execution_count": 16,
   "id": "ecfdea39-6d0e-4b74-9f0b-646de1fa632b",
   "metadata": {},
   "outputs": [
    {
     "data": {
      "text/plain": [
       "['“The world as we have created it is a process of our thinking. It cannot be changed without changing our thinking.”',\n",
       " '“It is our choices, Harry, that show what we truly are, far more than our abilities.”',\n",
       " '“There are only two ways to live your life. One is as though nothing is a miracle. The other is as though everything is a miracle.”',\n",
       " '“The person, be it gentleman or lady, who has not pleasure in a good novel, must be intolerably stupid.”',\n",
       " \"“Imperfection is beauty, madness is genius and it's better to be absolutely ridiculous than absolutely boring.”\",\n",
       " '“Try not to become a man of success. Rather become a man of value.”',\n",
       " '“It is better to be hated for what you are than to be loved for what you are not.”',\n",
       " \"“I have not failed. I've just found 10,000 ways that won't work.”\",\n",
       " \"“A woman is like a tea bag; you never know how strong it is until it's in hot water.”\",\n",
       " '“A day without sunshine is like, you know, night.”']"
      ]
     },
     "execution_count": 16,
     "metadata": {},
     "output_type": "execute_result"
    }
   ],
   "source": [
    "for train_names in names:\n",
    "    quote.append(train_names.text)\n",
    "\n",
    "t = map(lambda s: s.strip(), quote)\n",
    "quote = list(t)\n",
    "quote"
   ]
  },
  {
   "cell_type": "code",
   "execution_count": 18,
   "id": "cc2f33aa-7fbe-4b1f-afcc-7142d1f2f786",
   "metadata": {},
   "outputs": [
    {
     "name": "stdout",
     "output_type": "stream",
     "text": [
      "[<small class=\"author\" itemprop=\"author\">Albert Einstein</small>, <small class=\"author\" itemprop=\"author\">J.K. Rowling</small>, <small class=\"author\" itemprop=\"author\">Albert Einstein</small>, <small class=\"author\" itemprop=\"author\">Jane Austen</small>, <small class=\"author\" itemprop=\"author\">Marilyn Monroe</small>, <small class=\"author\" itemprop=\"author\">Albert Einstein</small>, <small class=\"author\" itemprop=\"author\">André Gide</small>, <small class=\"author\" itemprop=\"author\">Thomas A. Edison</small>, <small class=\"author\" itemprop=\"author\">Eleanor Roosevelt</small>, <small class=\"author\" itemprop=\"author\">Steve Martin</small>]\n"
     ]
    }
   ],
   "source": [
    "author = []\n",
    "authors = trainings_soup.findAll('small',{'class':'author'})\n",
    "print(authors)  "
   ]
  },
  {
   "cell_type": "code",
   "execution_count": 20,
   "id": "7a487171-8839-479f-87b1-2c61bfba8191",
   "metadata": {},
   "outputs": [
    {
     "data": {
      "text/plain": [
       "['Albert Einstein',\n",
       " 'J.K. Rowling',\n",
       " 'Albert Einstein',\n",
       " 'Jane Austen',\n",
       " 'Marilyn Monroe',\n",
       " 'Albert Einstein',\n",
       " 'André Gide',\n",
       " 'Thomas A. Edison',\n",
       " 'Eleanor Roosevelt',\n",
       " 'Steve Martin']"
      ]
     },
     "execution_count": 20,
     "metadata": {},
     "output_type": "execute_result"
    }
   ],
   "source": [
    "for i in authors:\n",
    "    author.append(i.text)\n",
    "    \n",
    "a = map(lambda s: s.strip(), author)\n",
    "author = list(a)\n",
    "author"
   ]
  },
  {
   "cell_type": "code",
   "execution_count": 22,
   "id": "03d65e6e-d19d-4fb1-93ed-b20ee347bef6",
   "metadata": {},
   "outputs": [],
   "source": [
    "links = trainings_soup.find_all('div',attrs={\"class\":\"quote\"})\n",
    "#links"
   ]
  },
  {
   "cell_type": "code",
   "execution_count": 24,
   "id": "0309d7e6-eb51-472d-b777-c567865630a2",
   "metadata": {},
   "outputs": [
    {
     "data": {
      "text/plain": [
       "['/author/Albert-Einstein',\n",
       " '/author/J-K-Rowling',\n",
       " '/author/Albert-Einstein',\n",
       " '/author/Jane-Austen',\n",
       " '/author/Marilyn-Monroe',\n",
       " '/author/Albert-Einstein',\n",
       " '/author/Andre-Gide',\n",
       " '/author/Thomas-A-Edison',\n",
       " '/author/Eleanor-Roosevelt',\n",
       " '/author/Steve-Martin']"
      ]
     },
     "execution_count": 24,
     "metadata": {},
     "output_type": "execute_result"
    }
   ],
   "source": [
    "link = []\n",
    "for i in links:\n",
    "    i.find(\"a\").get(\"href\")\n",
    "    link.append(i.find(\"a\").get(\"href\"))\n",
    "link"
   ]
  },
  {
   "cell_type": "code",
   "execution_count": 26,
   "id": "cd18e6d2-8948-463e-9658-acf103a3dd6e",
   "metadata": {},
   "outputs": [
    {
     "data": {
      "text/plain": [
       "['Tags:\\n            \\nchange\\ndeep-thoughts\\nthinking\\nworld',\n",
       " 'Tags:\\n            \\nabilities\\nchoices',\n",
       " 'Tags:\\n            \\ninspirational\\nlife\\nlive\\nmiracle\\nmiracles',\n",
       " 'Tags:\\n            \\naliteracy\\nbooks\\nclassic\\nhumor',\n",
       " 'Tags:\\n            \\nbe-yourself\\ninspirational',\n",
       " 'Tags:\\n            \\nadulthood\\nsuccess\\nvalue',\n",
       " 'Tags:\\n            \\nlife\\nlove',\n",
       " 'Tags:\\n            \\nedison\\nfailure\\ninspirational\\nparaphrased',\n",
       " 'Tags:\\n            \\nmisattributed-eleanor-roosevelt',\n",
       " 'Tags:\\n            \\nhumor\\nobvious\\nsimile']"
      ]
     },
     "execution_count": 26,
     "metadata": {},
     "output_type": "execute_result"
    }
   ],
   "source": [
    "tag = []\n",
    "#tags = trainings_soup.findAll('a', {'class':'tag'})\n",
    "tags = trainings_soup.findAll('div', {'class':'tags'})\n",
    "#tags\n",
    "for i in tags:\n",
    "    tag.append(i.text.strip())\n",
    "tag"
   ]
  },
  {
   "cell_type": "code",
   "execution_count": 28,
   "id": "51d7c9ee-cc12-4883-bd75-75aef5b49c22",
   "metadata": {
    "scrolled": true
   },
   "outputs": [
    {
     "data": {
      "text/html": [
       "<div>\n",
       "<style scoped>\n",
       "    .dataframe tbody tr th:only-of-type {\n",
       "        vertical-align: middle;\n",
       "    }\n",
       "\n",
       "    .dataframe tbody tr th {\n",
       "        vertical-align: top;\n",
       "    }\n",
       "\n",
       "    .dataframe thead th {\n",
       "        text-align: right;\n",
       "    }\n",
       "</style>\n",
       "<table border=\"1\" class=\"dataframe\">\n",
       "  <thead>\n",
       "    <tr style=\"text-align: right;\">\n",
       "      <th></th>\n",
       "      <th>quote</th>\n",
       "      <th>author</th>\n",
       "      <th>link</th>\n",
       "      <th>tag</th>\n",
       "    </tr>\n",
       "  </thead>\n",
       "  <tbody>\n",
       "    <tr>\n",
       "      <th>0</th>\n",
       "      <td>“The world as we have created it is a process ...</td>\n",
       "      <td>Albert Einstein</td>\n",
       "      <td>/author/Albert-Einstein</td>\n",
       "      <td>change deep-thoughts thinking world</td>\n",
       "    </tr>\n",
       "    <tr>\n",
       "      <th>1</th>\n",
       "      <td>“It is our choices, Harry, that show what we t...</td>\n",
       "      <td>J.K. Rowling</td>\n",
       "      <td>/author/J-K-Rowling</td>\n",
       "      <td>abilities choices</td>\n",
       "    </tr>\n",
       "    <tr>\n",
       "      <th>2</th>\n",
       "      <td>“There are only two ways to live your life. On...</td>\n",
       "      <td>Albert Einstein</td>\n",
       "      <td>/author/Albert-Einstein</td>\n",
       "      <td>inspirational life live miracle mi...</td>\n",
       "    </tr>\n",
       "  </tbody>\n",
       "</table>\n",
       "</div>"
      ],
      "text/plain": [
       "                                               quote           author  \\\n",
       "0  “The world as we have created it is a process ...  Albert Einstein   \n",
       "1  “It is our choices, Harry, that show what we t...     J.K. Rowling   \n",
       "2  “There are only two ways to live your life. On...  Albert Einstein   \n",
       "\n",
       "                      link                                                tag  \n",
       "0  /author/Albert-Einstein                change deep-thoughts thinking world  \n",
       "1      /author/J-K-Rowling                                  abilities choices  \n",
       "2  /author/Albert-Einstein              inspirational life live miracle mi...  "
      ]
     },
     "execution_count": 28,
     "metadata": {},
     "output_type": "execute_result"
    }
   ],
   "source": [
    "column_names = ['quote','author','link','tag']\n",
    "data_list = (quote,author,link,tag)\n",
    "result = pd.DataFrame(data_list, column_names).T\n",
    "result['tag'] = result['tag'].str.replace('Tags:\\n ','').str.replace(\"\\n\",\" \")\n",
    "result.head(3)"
   ]
  },
  {
   "cell_type": "code",
   "execution_count": 30,
   "id": "36d7a0cb-3dec-4b51-8d9d-d63160974de1",
   "metadata": {
    "scrolled": true
   },
   "outputs": [
    {
     "data": {
      "text/html": [
       "<div>\n",
       "<style scoped>\n",
       "    .dataframe tbody tr th:only-of-type {\n",
       "        vertical-align: middle;\n",
       "    }\n",
       "\n",
       "    .dataframe tbody tr th {\n",
       "        vertical-align: top;\n",
       "    }\n",
       "\n",
       "    .dataframe thead th {\n",
       "        text-align: right;\n",
       "    }\n",
       "</style>\n",
       "<table border=\"1\" class=\"dataframe\">\n",
       "  <thead>\n",
       "    <tr style=\"text-align: right;\">\n",
       "      <th></th>\n",
       "      <th>Unnamed: 0</th>\n",
       "      <th>quote</th>\n",
       "      <th>author</th>\n",
       "      <th>link</th>\n",
       "      <th>tag</th>\n",
       "    </tr>\n",
       "  </thead>\n",
       "  <tbody>\n",
       "    <tr>\n",
       "      <th>0</th>\n",
       "      <td>0</td>\n",
       "      <td>“The world as we have created it is a process ...</td>\n",
       "      <td>Albert Einstein</td>\n",
       "      <td>/author/Albert-Einstein</td>\n",
       "      <td>change deep-thoughts thinking world</td>\n",
       "    </tr>\n",
       "    <tr>\n",
       "      <th>1</th>\n",
       "      <td>1</td>\n",
       "      <td>“It is our choices, Harry, that show what we t...</td>\n",
       "      <td>J.K. Rowling</td>\n",
       "      <td>/author/J-K-Rowling</td>\n",
       "      <td>abilities choices</td>\n",
       "    </tr>\n",
       "    <tr>\n",
       "      <th>2</th>\n",
       "      <td>2</td>\n",
       "      <td>“There are only two ways to live your life. On...</td>\n",
       "      <td>Albert Einstein</td>\n",
       "      <td>/author/Albert-Einstein</td>\n",
       "      <td>inspirational life live miracle mi...</td>\n",
       "    </tr>\n",
       "    <tr>\n",
       "      <th>3</th>\n",
       "      <td>3</td>\n",
       "      <td>“The person, be it gentleman or lady, who has ...</td>\n",
       "      <td>Jane Austen</td>\n",
       "      <td>/author/Jane-Austen</td>\n",
       "      <td>aliteracy books classic humor</td>\n",
       "    </tr>\n",
       "    <tr>\n",
       "      <th>4</th>\n",
       "      <td>4</td>\n",
       "      <td>“Imperfection is beauty, madness is genius and...</td>\n",
       "      <td>Marilyn Monroe</td>\n",
       "      <td>/author/Marilyn-Monroe</td>\n",
       "      <td>be-yourself inspirational</td>\n",
       "    </tr>\n",
       "  </tbody>\n",
       "</table>\n",
       "</div>"
      ],
      "text/plain": [
       "   Unnamed: 0                                              quote  \\\n",
       "0           0  “The world as we have created it is a process ...   \n",
       "1           1  “It is our choices, Harry, that show what we t...   \n",
       "2           2  “There are only two ways to live your life. On...   \n",
       "3           3  “The person, be it gentleman or lady, who has ...   \n",
       "4           4  “Imperfection is beauty, madness is genius and...   \n",
       "\n",
       "            author                     link  \\\n",
       "0  Albert Einstein  /author/Albert-Einstein   \n",
       "1     J.K. Rowling      /author/J-K-Rowling   \n",
       "2  Albert Einstein  /author/Albert-Einstein   \n",
       "3      Jane Austen      /author/Jane-Austen   \n",
       "4   Marilyn Monroe   /author/Marilyn-Monroe   \n",
       "\n",
       "                                                 tag  \n",
       "0                change deep-thoughts thinking world  \n",
       "1                                  abilities choices  \n",
       "2              inspirational life live miracle mi...  \n",
       "3                      aliteracy books classic humor  \n",
       "4                          be-yourself inspirational  "
      ]
     },
     "execution_count": 30,
     "metadata": {},
     "output_type": "execute_result"
    }
   ],
   "source": [
    "result = result.to_csv(\"week8day1pythn_result.csv\")\n",
    "result = pd.read_csv(\"week8day1pythn_result.csv\")\n",
    "result.head()\n",
    "\n",
    "#result.drop('Unnamed: 0',axis=1).head(3)"
   ]
  },
  {
   "cell_type": "code",
   "execution_count": 32,
   "id": "5d558d0d-6f90-4d83-982a-402df56aa763",
   "metadata": {},
   "outputs": [
    {
     "data": {
      "text/html": [
       "<div>\n",
       "<style scoped>\n",
       "    .dataframe tbody tr th:only-of-type {\n",
       "        vertical-align: middle;\n",
       "    }\n",
       "\n",
       "    .dataframe tbody tr th {\n",
       "        vertical-align: top;\n",
       "    }\n",
       "\n",
       "    .dataframe thead th {\n",
       "        text-align: right;\n",
       "    }\n",
       "</style>\n",
       "<table border=\"1\" class=\"dataframe\">\n",
       "  <thead>\n",
       "    <tr style=\"text-align: right;\">\n",
       "      <th></th>\n",
       "      <th>quote</th>\n",
       "      <th>author</th>\n",
       "      <th>link</th>\n",
       "      <th>tag</th>\n",
       "    </tr>\n",
       "  </thead>\n",
       "  <tbody>\n",
       "    <tr>\n",
       "      <th>0</th>\n",
       "      <td>“The world as we have created it is a process ...</td>\n",
       "      <td>Albert Einstein</td>\n",
       "      <td>/author/Albert-Einstein</td>\n",
       "      <td>change deep-thoughts thinking world</td>\n",
       "    </tr>\n",
       "    <tr>\n",
       "      <th>1</th>\n",
       "      <td>“It is our choices, Harry, that show what we t...</td>\n",
       "      <td>J.K. Rowling</td>\n",
       "      <td>/author/J-K-Rowling</td>\n",
       "      <td>abilities choices</td>\n",
       "    </tr>\n",
       "    <tr>\n",
       "      <th>2</th>\n",
       "      <td>“There are only two ways to live your life. On...</td>\n",
       "      <td>Albert Einstein</td>\n",
       "      <td>/author/Albert-Einstein</td>\n",
       "      <td>inspirational life live miracle mi...</td>\n",
       "    </tr>\n",
       "    <tr>\n",
       "      <th>3</th>\n",
       "      <td>“The person, be it gentleman or lady, who has ...</td>\n",
       "      <td>Jane Austen</td>\n",
       "      <td>/author/Jane-Austen</td>\n",
       "      <td>aliteracy books classic humor</td>\n",
       "    </tr>\n",
       "    <tr>\n",
       "      <th>4</th>\n",
       "      <td>“Imperfection is beauty, madness is genius and...</td>\n",
       "      <td>Marilyn Monroe</td>\n",
       "      <td>/author/Marilyn-Monroe</td>\n",
       "      <td>be-yourself inspirational</td>\n",
       "    </tr>\n",
       "  </tbody>\n",
       "</table>\n",
       "</div>"
      ],
      "text/plain": [
       "                                               quote           author  \\\n",
       "0  “The world as we have created it is a process ...  Albert Einstein   \n",
       "1  “It is our choices, Harry, that show what we t...     J.K. Rowling   \n",
       "2  “There are only two ways to live your life. On...  Albert Einstein   \n",
       "3  “The person, be it gentleman or lady, who has ...      Jane Austen   \n",
       "4  “Imperfection is beauty, madness is genius and...   Marilyn Monroe   \n",
       "\n",
       "                      link                                                tag  \n",
       "0  /author/Albert-Einstein                change deep-thoughts thinking world  \n",
       "1      /author/J-K-Rowling                                  abilities choices  \n",
       "2  /author/Albert-Einstein              inspirational life live miracle mi...  \n",
       "3      /author/Jane-Austen                      aliteracy books classic humor  \n",
       "4   /author/Marilyn-Monroe                          be-yourself inspirational  "
      ]
     },
     "execution_count": 32,
     "metadata": {},
     "output_type": "execute_result"
    }
   ],
   "source": [
    "result.drop('Unnamed: 0',axis=1).head()"
   ]
  },
  {
   "cell_type": "code",
   "execution_count": null,
   "id": "5e1f6838-b921-48fa-a5f2-fc5d5802b5a2",
   "metadata": {},
   "outputs": [],
   "source": []
  }
 ],
 "metadata": {
  "kernelspec": {
   "display_name": "Python 3 (ipykernel)",
   "language": "python",
   "name": "python3"
  },
  "language_info": {
   "codemirror_mode": {
    "name": "ipython",
    "version": 3
   },
   "file_extension": ".py",
   "mimetype": "text/x-python",
   "name": "python",
   "nbconvert_exporter": "python",
   "pygments_lexer": "ipython3",
   "version": "3.12.7"
  }
 },
 "nbformat": 4,
 "nbformat_minor": 5
}
